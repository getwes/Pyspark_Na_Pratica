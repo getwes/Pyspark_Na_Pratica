{
 "cells": [
  {
   "cell_type": "code",
   "execution_count": 1,
   "id": "eb66a4d4",
   "metadata": {
    "scrolled": true
   },
   "outputs": [
    {
     "ename": "NameError",
     "evalue": "name 'dbutils' is not defined",
     "output_type": "error",
     "traceback": [
      "\u001b[1;31m---------------------------------------------------------------------------\u001b[0m",
      "\u001b[1;31mNameError\u001b[0m                                 Traceback (most recent call last)",
      "\u001b[1;32m~\\AppData\\Local\\Temp\\ipykernel_6364\\3942724856.py\u001b[0m in \u001b[0;36m<module>\u001b[1;34m\u001b[0m\n\u001b[0;32m      1\u001b[0m \u001b[1;31m#visualizando datasets de exemplos da databricks\u001b[0m\u001b[1;33m\u001b[0m\u001b[1;33m\u001b[0m\u001b[0m\n\u001b[1;32m----> 2\u001b[1;33m \u001b[0mdisplay\u001b[0m\u001b[1;33m(\u001b[0m\u001b[0mdbutils\u001b[0m\u001b[1;33m.\u001b[0m\u001b[0mfs\u001b[0m\u001b[1;33m.\u001b[0m\u001b[0mls\u001b[0m\u001b[1;33m(\u001b[0m\u001b[1;34m\"/databricks-datasets\"\u001b[0m\u001b[1;33m)\u001b[0m\u001b[1;33m)\u001b[0m\u001b[1;33m\u001b[0m\u001b[1;33m\u001b[0m\u001b[0m\n\u001b[0m",
      "\u001b[1;31mNameError\u001b[0m: name 'dbutils' is not defined"
     ]
    }
   ],
   "source": [
    "#visualizando datasets de exemplos da databricks\n",
    "display(dbutils.fs.ls(\"/databricks-datasets\"))\n"
   ]
  },
  {
   "cell_type": "code",
   "execution_count": null,
   "id": "6f47221f",
   "metadata": {},
   "outputs": [],
   "source": [
    "path\n",
    "name\n",
    "size\n",
    "1\n",
    "2\n",
    "3\n",
    "4\n",
    "5\n",
    "6\n",
    "7\n",
    "8\n",
    "9\n",
    "10\n",
    "11\n",
    "12\n",
    "13\n",
    "14\n",
    "15\n",
    "16\n",
    "17\n",
    "18\n",
    "19\n",
    "20\n",
    "dbfs:/databricks-datasets/COVID/\n",
    "COVID/\n",
    "0\n",
    "dbfs:/databricks-datasets/README.md\n",
    "README.md\n",
    "976\n",
    "dbfs:/databricks-datasets/Rdatasets/\n",
    "Rdatasets/\n",
    "0\n",
    "dbfs:/databricks-datasets/SPARK_README.md\n",
    "SPARK_README.md\n",
    "3359\n",
    "dbfs:/databricks-datasets/adult/\n",
    "adult/\n",
    "0\n",
    "dbfs:/databricks-datasets/airlines/\n",
    "airlines/\n",
    "0\n",
    "dbfs:/databricks-datasets/amazon/\n",
    "amazon/\n",
    "0\n",
    "dbfs:/databricks-datasets/asa/\n",
    "asa/\n",
    "0\n",
    "dbfs:/databricks-datasets/atlas_higgs/\n",
    "atlas_higgs/\n",
    "0"
   ]
  },
  {
   "cell_type": "code",
   "execution_count": 1,
   "id": "237c1713",
   "metadata": {},
   "outputs": [],
   "source": [
    "#lendo o arquivo de dados\n",
    "arquivo = \"dbfs:/databricks-datasets/flights/\""
   ]
  }
 ],
 "metadata": {
  "kernelspec": {
   "display_name": "Python 3 (ipykernel)",
   "language": "python",
   "name": "python3"
  },
  "language_info": {
   "codemirror_mode": {
    "name": "ipython",
    "version": 3
   },
   "file_extension": ".py",
   "mimetype": "text/x-python",
   "name": "python",
   "nbconvert_exporter": "python",
   "pygments_lexer": "ipython3",
   "version": "3.9.13"
  }
 },
 "nbformat": 4,
 "nbformat_minor": 5
}
