{
 "cells": [
  {
   "cell_type": "code",
   "execution_count": null,
   "id": "a0e84798",
   "metadata": {},
   "outputs": [],
   "source": [
    "#visualizando datasets de exemplos da databricks\n",
    "display(dbutils.fs.ls(\"/databricks-datasets\"))"
   ]
  },
  {
   "cell_type": "code",
   "execution_count": null,
   "id": "ed8ab0e0",
   "metadata": {},
   "outputs": [],
   "source": [
    "path\n",
    "name\n",
    "size\n",
    "1\n",
    "2\n",
    "3\n",
    "4\n",
    "5\n",
    "6\n",
    "7\n",
    "8\n",
    "9\n",
    "10\n",
    "11\n",
    "12\n",
    "13\n",
    "14\n",
    "15\n",
    "16\n",
    "17\n",
    "18\n",
    "19\n",
    "20\n",
    "dbfs:/databricks-datasets/COVID/\n",
    "COVID/\n",
    "0\n",
    "dbfs:/databricks-datasets/README.md\n",
    "README.md\n",
    "976\n",
    "dbfs:/databricks-datasets/Rdatasets/\n",
    "Rdatasets/\n",
    "0\n",
    "dbfs:/databricks-datasets/SPARK_README.md\n",
    "SPARK_README.md\n",
    "3359\n",
    "dbfs:/databricks-datasets/adult/\n",
    "adult/\n",
    "0\n",
    "dbfs:/databricks-datasets/airlines/\n",
    "airlines/\n",
    "0\n",
    "dbfs:/databricks-datasets/amazon/\n",
    "amazon/\n",
    "0\n",
    "dbfs:/databricks-datasets/asa/\n",
    "asa/\n",
    "0\n",
    "dbfs:/databricks-datasets/atlas_higgs/\n",
    "atlas_higgs/\n",
    "0"
   ]
  },
  {
   "cell_type": "code",
   "execution_count": null,
   "id": "441a89ef",
   "metadata": {},
   "outputs": [],
   "source": [
    "#lendo o arquivo de dados\n",
    "arquivo = \"dbfs:/databricks-datasets/flights/\""
   ]
  }
 ],
 "metadata": {
  "kernelspec": {
   "display_name": "Python 3 (ipykernel)",
   "language": "python",
   "name": "python3"
  },
  "language_info": {
   "codemirror_mode": {
    "name": "ipython",
    "version": 3
   },
   "file_extension": ".py",
   "mimetype": "text/x-python",
   "name": "python",
   "nbconvert_exporter": "python",
   "pygments_lexer": "ipython3",
   "version": "3.9.13"
  }
 },
 "nbformat": 4,
 "nbformat_minor": 5
}
